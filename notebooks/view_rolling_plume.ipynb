{
 "cells": [
  {
   "cell_type": "code",
   "execution_count": 4,
   "metadata": {
    "collapsed": true
   },
   "outputs": [],
   "source": [
    "import os\n",
    "\n",
    "import numpy as np\n",
    "import matplotlib.pyplot as plt\n",
    "import seaborn as sns\n",
    "\n",
    "from src.models.odor_plumes import OdorPlumeRollingRandom"
   ]
  },
  {
   "cell_type": "code",
   "execution_count": 5,
   "outputs": [],
   "source": [
    "rolling_plume = OdorPlumeRollingRandom()\n",
    "_,frame = rolling_plume.reset()\n",
    "savepath = os.path.join('..','result_images','rolling_plume_frames')\n",
    "for frame_index in range(100):\n",
    "        frame_num_str = (str(frame_index).zfill(4))\n",
    "        frame_fn = frame_num_str + '.png'\n",
    "        frame_path = os.path.join(savepath, frame_fn)\n",
    "        sns.heatmap(frame.T)\n",
    "        plt.savefig(frame_path)\n",
    "        plt.close()\n",
    "        _,frame = rolling_plume.advance()"
   ],
   "metadata": {
    "collapsed": false
   }
  },
  {
   "cell_type": "markdown",
   "source": [],
   "metadata": {
    "collapsed": false
   }
  }
 ],
 "metadata": {
  "kernelspec": {
   "display_name": "Python 3",
   "language": "python",
   "name": "python3"
  },
  "language_info": {
   "codemirror_mode": {
    "name": "ipython",
    "version": 2
   },
   "file_extension": ".py",
   "mimetype": "text/x-python",
   "name": "python",
   "nbconvert_exporter": "python",
   "pygments_lexer": "ipython2",
   "version": "2.7.6"
  }
 },
 "nbformat": 4,
 "nbformat_minor": 0
}
